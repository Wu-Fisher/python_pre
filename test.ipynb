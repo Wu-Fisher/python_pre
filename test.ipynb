{
 "cells": [
  {
   "cell_type": "code",
   "execution_count": null,
   "metadata": {},
   "outputs": [],
   "source": []
  }
 ],
 "metadata": {
  "interpreter": {
   "hash": "64810ea900b96d1b7e737c0ee55288319b567f772002b2ce929be02a4816f79c"
  },
  "kernelspec": {
   "display_name": "Python 3.9.7 64-bit ('spython': conda)",
   "language": "python",
   "name": "python3"
  },
  "language_info": {
   "name": "python",
   "version": "3.9.7"
  },
  "orig_nbformat": 4
 },
 "nbformat": 4,
 "nbformat_minor": 2
}
