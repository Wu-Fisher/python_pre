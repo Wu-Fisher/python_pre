{
 "cells": [
  {
   "cell_type": "markdown",
   "metadata": {},
   "source": [
    "# NOTEBOOK2"
   ]
  },
  {
   "cell_type": "markdown",
   "metadata": {},
   "source": [
    "### 设计模式\n",
    "\n",
    "    工厂模式，单例模式\n",
    "\n",
    "    工厂模式实现了实现类，创建对象行为统一的管理和控制\n",
    "\n",
    "    单例模式，一个类只有一个实例，提供一个访问该实例的全局访问点。对象产生需要消耗过多资源的时候，产生一个单例对象，永远留在内存中\n",
    "\n",
    "    补充了一点new方法，实例化的一些只是"
   ]
  },
  {
   "cell_type": "code",
   "execution_count": null,
   "metadata": {},
   "outputs": [],
   "source": [
    "# 工厂模式\n",
    "\n",
    "class CarFactory:\n",
    "    def create_car(self,brand):\n",
    "        if brand == \"奔驰\":\n",
    "            return Benz()\n",
    "        elif brand == \"宝马\":\n",
    "            return BMW()\n",
    "        elif brand == \"比亚迪\":\n",
    "            return BYD()\n",
    "        else:\n",
    "            return \"unkown broad\"\n",
    "class Benz:\n",
    "    pass\n",
    "\n",
    "class BMW:\n",
    "    pass\n",
    "\n",
    "class BYD:\n",
    "    pass"
   ]
  },
  {
   "cell_type": "code",
   "execution_count": 3,
   "metadata": {},
   "outputs": [
    {
     "name": "stdout",
     "output_type": "stream",
     "text": [
      "init...\n",
      "<__main__.MySingleton object at 0x0000027AE4884610>\n",
      "aa\n",
      "<__main__.MySingleton object at 0x0000027AE4884610>\n",
      "aa\n"
     ]
    }
   ],
   "source": [
    "# 单例模式\n",
    "\n",
    "class MySingleton:\n",
    "\n",
    "\n",
    "    # 关键，把类放在这里\n",
    "    __obj = None\n",
    "    __init_flag = True\n",
    "    # 这里new函数的参数好像要注意一下\n",
    "    def __new__(cls,*args,**kwargs):\n",
    "        if cls.__obj==None:\n",
    "#   这个是new继承自obj类的new写法，就算多层继承，如果没有复写的话也会按层追溯到obj的new，所以这里调用object.__new__(cls)\n",
    "\n",
    "#   add,这里甚至不允许调用自身的new，显然会死循环的\n",
    "\n",
    "#   def __new__(cls, *args, **kwargs):\n",
    "#    ...\n",
    "#    return object.__new__(cls)\n",
    "            cls.__obj = object.__new__(cls)\n",
    "\n",
    "        return cls.__obj\n",
    "\n",
    "    def __init__(self,name) -> None:\n",
    "        \n",
    "        if MySingleton.__init_flag:\n",
    "            print(\"init...\")\n",
    "            self.name = name\n",
    "            MySingleton.__init_flag = False\n",
    "\n",
    "a= MySingleton(\"aa\")\n",
    "\n",
    "b = MySingleton(\"BB\")\n",
    "\n",
    "print(a)\n",
    "print(a.name)\n",
    "\n",
    "print(b)\n",
    "print(b.name)\n",
    "\n",
    "# 这里发现init也被重新执行，属性被覆盖了"
   ]
  },
  {
   "cell_type": "markdown",
   "metadata": {},
   "source": [
    "### 异常\n",
    "\n",
    "\n",
    "    逻辑代码和复杂代码放在一起\n",
    "    try里面包含可能错误的代码\n",
    "\n",
    "    异常处理是为了这个异常其他程序仍然能够继续运行\n",
    "\n",
    "    异常类的父类BaseException\n",
    "    KeyBoardInterrupt\n",
    "    Exception\n",
    "    SystemExit\n",
    "    GeneratorExit\n",
    "\n",
    "    Traceback 追溯 \n",
    "    most recent call last 最后一次调用 \n",
    "\n",
    "    except:\n",
    "    except:\n",
    "    except:\n",
    "    ...\n",
    "\n",
    "    可以多个并列\n",
    "\n",
    "    try:\n",
    "    异常：except\n",
    "    没异常：else\n",
    "\n",
    "    最后finally 无论如何都会执行\n",
    "\n",
    "    一般把return 放在finally后面！！（不在里面），不放在异常处理里面"
   ]
  },
  {
   "cell_type": "code",
   "execution_count": 3,
   "metadata": {},
   "outputs": [
    {
     "name": "stdout",
     "output_type": "stream",
     "text": [
      "float division by zero\n"
     ]
    }
   ],
   "source": [
    " \n",
    "try:\n",
    "    a = input(\"请输入被除数\")\n",
    "    b = input(\"请输入除数\")\n",
    "    c = float(a)/float(b)\n",
    "except BaseException as e:\n",
    "    # a = 1 , b = 0 \n",
    "    # 可以打印出错误信息 \n",
    "\n",
    "    print(e)\n",
    "\n",
    "else :\n",
    "    print(\"除的结果是\",c)\n",
    "    "
   ]
  },
  {
   "cell_type": "markdown",
   "metadata": {},
   "source": [
    "### 常见异常\n",
    "    1.SyntaxError 语法错误\n",
    "    2.NameError 访问没有申明的变量\n",
    "    3.ZeroDivisionError 除数为0\n",
    "    4.ValueError 数值错误（多半为输入的参数）\n",
    "    5.TypeError 类型错误\n",
    "    6.AttributeError 访问对象不存在的属性\n",
    "    7.IndexError 索引越界异常\n",
    "    8.KeyError 字典关键字不存在"
   ]
  }
 ],
 "metadata": {
  "interpreter": {
   "hash": "64810ea900b96d1b7e737c0ee55288319b567f772002b2ce929be02a4816f79c"
  },
  "kernelspec": {
   "display_name": "Python 3.9.7 64-bit ('spython': conda)",
   "language": "python",
   "name": "python3"
  },
  "language_info": {
   "codemirror_mode": {
    "name": "ipython",
    "version": 3
   },
   "file_extension": ".py",
   "mimetype": "text/x-python",
   "name": "python",
   "nbconvert_exporter": "python",
   "pygments_lexer": "ipython3",
   "version": "3.9.7"
  },
  "orig_nbformat": 4
 },
 "nbformat": 4,
 "nbformat_minor": 2
}
