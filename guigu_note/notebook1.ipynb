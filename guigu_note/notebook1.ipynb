{
 "cells": [
  {
   "cell_type": "markdown",
   "metadata": {},
   "source": [
    "# NOTEBOOK1\n",
    "    date 2022/1/20"
   ]
  },
  {
   "cell_type": "markdown",
   "metadata": {},
   "source": [
    "### nonlocal 关键字\n",
    "    声明外部的局部变量\n"
   ]
  },
  {
   "cell_type": "code",
   "execution_count": 5,
   "metadata": {},
   "outputs": [
    {
     "name": "stdout",
     "output_type": "stream",
     "text": [
      "inner: 10\n",
      "outer: 20\n",
      "global: 1\n"
     ]
    }
   ],
   "source": [
    "# 测试nonlocal关键字\n",
    "a=100\n",
    "def outer():\n",
    "    b=10\n",
    "    def inner():\n",
    "        nonlocal b      #声明外部函数的局部变量\n",
    "        print(\"inner:\",b)\n",
    "        b=20\n",
    "        global a  #修改全局变量\n",
    "        a=1\n",
    "    inner()\n",
    "    print(\"outer:\",b)\n",
    "    print(\"global:\",a)\n",
    "\n",
    "outer()"
   ]
  },
  {
   "cell_type": "markdown",
   "metadata": {},
   "source": [
    "### LEGB规则\n",
    "    查找名称的顺序：\n",
    "    Local 函数或者类的方法内部\n",
    "    Enclosed  嵌套函数\n",
    "    Global  模块中的局部变量\n",
    "    Built in   python为自己保留的特殊名称"
   ]
  },
  {
   "cell_type": "code",
   "execution_count": 3,
   "metadata": {},
   "outputs": [
    {
     "name": "stdout",
     "output_type": "stream",
     "text": [
      "test\n"
     ]
    }
   ],
   "source": [
    "# 测试\n",
    "\n",
    "str = \"test\"\n",
    "\n",
    "def outer():\n",
    "\n",
    "    #str=\"outer\"\n",
    "    def inner():\n",
    "        #str=\"inner\"\n",
    "        print(str)\n",
    "\n",
    "    inner()\n",
    "\n",
    "outer()\n",
    "\n"
   ]
  },
  {
   "cell_type": "markdown",
   "metadata": {},
   "source": [
    "### 构造函数__init__()\n",
    "    __init__:初始化创建好的对象，给对象赋值\n",
    "    __new__:负责创建对象\n",
    "    \n",
    "    self必须为构造函数的第一个参数\n",
    "\n",
    "    id\n",
    "    type\n",
    "    value:\n",
    "            attribute\n",
    "            method\n",
    "    实例对象调用方法的本质\n",
    "    类，方法是共享的\n",
    "\n",
    "    s1.say_score() ---> Student.say_score(s1)\n",
    "\n",
    "    dir(obj) 可以获得对象的所有属性和方法\n",
    "    obj.__dict__ 对象的属性字典\n",
    "\n",
    "    isinstance(obj,type)\n",
    "\n",
    "    pass 空语句\n",
    "    \n",
    "\n"
   ]
  },
  {
   "cell_type": "code",
   "execution_count": 4,
   "metadata": {},
   "outputs": [
    {
     "name": "stdout",
     "output_type": "stream",
     "text": [
      "高崎的分数是:98\n",
      "wuhu的分数是:100\n",
      "['__class__', '__delattr__', '__dict__', '__dir__', '__doc__', '__eq__', '__format__', '__ge__', '__getattribute__', '__gt__', '__hash__', '__init__', '__init_subclass__', '__le__', '__lt__', '__module__', '__ne__', '__new__', '__reduce__', '__reduce_ex__', '__repr__', '__setattr__', '__sizeof__', '__str__', '__subclasshook__', '__weakref__', 'name', 'say_score', 'score']\n",
      "{'name': '高崎', 'score': '98'}\n"
     ]
    }
   ],
   "source": [
    "class Student:\n",
    "    \n",
    "    def __init__(self,name=\"wuhu\",score=\"100\") -> None:\n",
    "        self.name=name\n",
    "        self.score=score\n",
    "\n",
    "    def say_score(self):\n",
    "        print(\"{0}的分数是:{1}\".format(self.name,self.score))\n",
    "\n",
    "\n",
    "s1 = Student(\"高崎\",\"98\")\n",
    "s1.say_score()\n",
    "s2=Student()\n",
    "s2.say_score()\n",
    "\n",
    "ss=dir(s1)\n",
    "\n",
    "print(ss)\n",
    "\n",
    "print(s1.__dict__)\n"
   ]
  },
  {
   "cell_type": "markdown",
   "metadata": {},
   "source": [
    "### 类对象\n",
    "    type 模具类\n",
    "    "
   ]
  },
  {
   "cell_type": "code",
   "execution_count": 3,
   "metadata": {},
   "outputs": [
    {
     "name": "stdout",
     "output_type": "stream",
     "text": [
      "<class 'type'>\n",
      "1915577695728\n",
      "1915577695728\n",
      "s1:False\n",
      "s2:False\n"
     ]
    }
   ],
   "source": [
    "# 测试类对象的生成\n",
    "class Student:\n",
    "    Mode=True\n",
    "\n",
    "# 此时Student为type类对象（模具）\n",
    "print(type(Student))\n",
    "print(id(Student))\n",
    "\n",
    "# 根据模具Student产生类对象\n",
    "\n",
    "# Stu2还是一个类对象\n",
    "\n",
    "# 这里Stu2其实和Student是同一个内存（id相同）\n",
    "Stu2 = Student\n",
    "\n",
    "# 再产生实例\n",
    "\n",
    "Student.Mode=False\n",
    "\n",
    "s1=Student()\n",
    "print(id(Stu2))\n",
    "s2=Stu2()\n",
    "print(f\"s1:{s1.Mode}\")\n",
    "print(f\"s2:{s2.Mode}\")\n"
   ]
  },
  {
   "cell_type": "markdown",
   "metadata": {},
   "source": [
    "### 类属性类方法\n",
    "    类方法定义\n",
    "    @classmethod\n",
    "\n",
    "    子类继承时候传入的是cls是子类\n",
    "    静态方法\n",
    "    @staticmethod\n",
    "\n",
    "    放在类里面，其实和一般函数区别不大\n",
    "\n",
    "    "
   ]
  },
  {
   "cell_type": "code",
   "execution_count": 3,
   "metadata": {},
   "outputs": [
    {
     "name": "stdout",
     "output_type": "stream",
     "text": [
      "我的公司是SXT\n",
      "haha\n",
      "1\n",
      "3\n"
     ]
    }
   ],
   "source": [
    "class Student:\n",
    "    company=\"SXT\"\n",
    "    count=0\n",
    "\n",
    "    def __init__(self,name,score) -> None:\n",
    "        self.name=name\n",
    "        self.score=score\n",
    "        Student.count=Student.count+1\n",
    "\n",
    "\n",
    "    def say_score(self):\n",
    "        print(f\"我的公司是{Student.company}\")\n",
    "        print(f\"{self.name}\")\n",
    "\n",
    "\n",
    "    @classmethod\n",
    "    # 必须要cls第一个参数，但由于直接调用的堆，所以一般来说不用填入\n",
    "    def say_count(cls):\n",
    "        print(cls.count)\n",
    "\n",
    "\n",
    "    @staticmethod\n",
    "    def add(a,b):\n",
    "        return a+b\n",
    "\n",
    "s1=Student(\"haha\",80)\n",
    "s1.say_score()\n",
    "Student.say_count()\n",
    "print(Student.add(1,2))"
   ]
  },
  {
   "cell_type": "markdown",
   "metadata": {},
   "source": [
    "### 析构函数__del__方法和垃圾回收机制\n",
    "    实现对象被销毁的操作\n",
    "\n",
    "    python也有垃圾回收机制（引用次数为0）\n",
    "\n",
    "    也可以自己调用\n"
   ]
  },
  {
   "cell_type": "code",
   "execution_count": 1,
   "metadata": {},
   "outputs": [
    {
     "name": "stdout",
     "output_type": "stream",
     "text": [
      "销毁对象：<__main__.Person object at 0x0000015C3B0A5AF0>\n",
      "p1:<__main__.Person object at 0x0000015C3B0A5B20>\n",
      "NO p2\n",
      "程序结束\n"
     ]
    }
   ],
   "source": [
    "class Person:\n",
    "    \n",
    "\n",
    "    def __del__(self):\n",
    "        print(\"销毁对象：{0}\".format(self))\n",
    "\n",
    "p1=Person()\n",
    "p2=Person()\n",
    "\n",
    "# 手动调用销毁对象   \n",
    "del p2\n",
    "\n",
    "print(f\"p1:{p1}\")\n",
    "\n",
    "\n",
    "try:\n",
    "    print(f\"p2:{p2}\")\n",
    "except NameError:\n",
    "    print(\"NO p2\")\n",
    "\n",
    "print(\"程序结束\")"
   ]
  },
  {
   "cell_type": "markdown",
   "metadata": {},
   "source": [
    "### __call__方法\n",
    "\n",
    "    称为可调用对象\n",
    "\n",
    "    obj() --> obj.__call__()\n"
   ]
  },
  {
   "cell_type": "code",
   "execution_count": 7,
   "metadata": {},
   "outputs": [
    {
     "name": "stdout",
     "output_type": "stream",
     "text": [
      "算工资拉。。。\n",
      "年薪:36000\n",
      "{'yearsalary': 36000, 'monthsalary': 3000}\n"
     ]
    }
   ],
   "source": [
    "class SalaryAccount:\n",
    "\n",
    "\n",
    "\n",
    "    def __call__(self,salary):\n",
    "        print(\"算工资拉。。。\")\n",
    "        print(f\"年薪:{salary*12}\")\n",
    "\n",
    "        # 复习dict\n",
    "        return dict(yearsalary=salary*12,monthsalary=salary)\n",
    "\n",
    "    \n",
    "\n",
    "s =SalaryAccount()\n",
    "print(s(3000))"
   ]
  },
  {
   "cell_type": "markdown",
   "metadata": {},
   "source": [
    "### python 方法（没有）重载\n",
    "\n",
    "    python的方法参数没有类型\n",
    "\n",
    "    定义的多个重载方法只有最后一个有效\n",
    "    \n",
    "    但是可以有很多调用类型"
   ]
  },
  {
   "cell_type": "markdown",
   "metadata": {},
   "source": [
    "### python 方法有动态性\n",
    "    给类和对象都能添加新方法"
   ]
  },
  {
   "cell_type": "code",
   "execution_count": 8,
   "metadata": {},
   "outputs": [
    {
     "name": "stdout",
     "output_type": "stream",
     "text": [
      "努力上班\n",
      "wo1在玩游戏\n",
      "work hard\n",
      "ni在玩游戏\n"
     ]
    }
   ],
   "source": [
    "class Person:\n",
    "\n",
    "    def work(self):\n",
    "        print(\"努力上班\")\n",
    "\n",
    "\n",
    "## 这里由于要加入类，所以这里加入一个self，如果调用一般方法记得填充\n",
    "def play_game(self,s):\n",
    "    print(f\"{s}在玩游戏\")\n",
    "\n",
    "def work2(self):\n",
    "    print(\"work hard\")\n",
    "# 把 方法赋给了类\n",
    "Person.play = play_game\n",
    "\n",
    "p = Person()\n",
    "p.work()\n",
    "\n",
    "p.play(\"wo1\")\n",
    "\n",
    "# 这里也可以验证 方法是公用的，实例创造后才改变的\n",
    "Person.work= work2\n",
    "\n",
    "p.work()\n",
    "\n",
    "# 传个空对象进去\n",
    "play_game(None,\"ni\")"
   ]
  },
  {
   "cell_type": "markdown",
   "metadata": {},
   "source": [
    "### 私有属性和私有方法\n",
    "\n",
    "    两个下划线__(private) , other is public"
   ]
  },
  {
   "cell_type": "code",
   "execution_count": 6,
   "metadata": {},
   "outputs": [
    {
     "name": "stdout",
     "output_type": "stream",
     "text": [
      "['_Employee__age', '_Employee__work', '__class__', '__delattr__', '__dict__', '__dir__', '__doc__', '__eq__', '__format__', '__ge__', '__getattribute__', '__gt__', '__hash__', '__init__', '__init_subclass__', '__le__', '__lt__', '__module__', '__ne__', '__new__', '__reduce__', '__reduce_ex__', '__repr__', '__setattr__', '__sizeof__', '__str__', '__subclasshook__', '__weakref__', 'name']\n",
      "invalid\n",
      "12\n",
      "invalid\n",
      "好好工作\n",
      "年龄：12\n"
     ]
    }
   ],
   "source": [
    "class Employee:\n",
    "    \n",
    "    # 类变量同理\n",
    "\n",
    "    __company = \"bxt\"\n",
    "\n",
    "    def __init__(self,name,age):\n",
    "        self.name=name\n",
    "        self.__age=age\n",
    "\n",
    "\n",
    "    def __work(self):\n",
    "        print(\"好好工作\")\n",
    "\n",
    "        # 自己调用没有问题\n",
    "        print(f\"年龄:{self.__age}\")\n",
    "\n",
    "e =Employee(\"大爹\",12)\n",
    "\n",
    "# 通过dict查看如何调用私有的方法\n",
    "\n",
    "print(dir(e))\n",
    "\n",
    "try:\n",
    "    print(f\"{e.__age}\")\n",
    "except:\n",
    "    print(\"invalid\")\n",
    "\n",
    "    # 通过这样调用\n",
    "    \n",
    "    print(f\"{e._Employee__age}\")\n",
    "\n",
    "try:\n",
    "    e.__work()\n",
    "\n",
    "except:\n",
    "    print(\"invalid\")\n",
    "\n",
    "    #方法也是这样调用\n",
    "    e._Employee__work()\n",
    "\n",
    "    "
   ]
  },
  {
   "cell_type": "markdown",
   "metadata": {},
   "source": [
    "### @property 装饰器\n",
    "\n",
    "    将方法调用改为属性调用\n",
    "\n",
    "    get set简单略\n",
    "    "
   ]
  },
  {
   "cell_type": "code",
   "execution_count": 8,
   "metadata": {},
   "outputs": [
    {
     "name": "stdout",
     "output_type": "stream",
     "text": [
      "valid\n",
      "10000\n"
     ]
    }
   ],
   "source": [
    "class Employee:\n",
    "    @property\n",
    "    def salary(self):\n",
    "        return 10000\n",
    "\n",
    "e1 =Employee()\n",
    "try:\n",
    "    print(e1.salary())\n",
    "except:\n",
    "    print(\"valid\")\n",
    "\n",
    "    \n",
    "print(e1.salary)"
   ]
  },
  {
   "cell_type": "markdown",
   "metadata": {},
   "source": [
    "###    继承\n",
    "\n",
    "    python支持多重继承，一个子类可以继承多个父类\n",
    "\n",
    "    父类的私有不能简单的继承，使用有点类似与类外面的使用方法\n",
    "\n",
    "    子类继承父类除了构造方法之外的所有成员\n",
    "    \n",
    "    子类可以重新定义父类的方法"
   ]
  },
  {
   "cell_type": "code",
   "execution_count": 2,
   "metadata": {},
   "outputs": [
    {
     "name": "stdout",
     "output_type": "stream",
     "text": [
      "wuhu 的年龄是 12\n",
      "成绩是 80\n",
      "12\n",
      "[<class '__main__.Student'>, <class '__main__.Person'>, <class 'object'>]\n"
     ]
    }
   ],
   "source": [
    "class Person:\n",
    "    def __init__(self,name,age) -> None:\n",
    "        self.name=name\n",
    "        self.__age=age\n",
    "\n",
    "    def say(self):\n",
    "        print(self.name,\"的年龄是\",self.__age)\n",
    "\n",
    "class Student(Person):\n",
    "    def __init__(self, name, age,score) -> None:\n",
    "        \n",
    "        # super 可以换为Person\n",
    "\n",
    "        # 这里需要显式的调用父类的方法\n",
    "        \n",
    "        super().__init__(name, age)\n",
    "        self.score=score\n",
    "\n",
    "\n",
    "    def say(self):\n",
    "        super().say()\n",
    "        print(\"成绩是\",self.score)\n",
    "\n",
    "    def say_age(self):\n",
    "\n",
    "        # 可以继承父类，但是不能直接用\n",
    "\n",
    "        print(self._Person__age)\n",
    "\n",
    "\n",
    "s1=Student(\"wuhu\",12,80)\n",
    "\n",
    "s1.say()\n",
    "\n",
    "s1.say_age()\n",
    "\n",
    "# .mro()方法（或__mro__）可以打印继承结构\n",
    "# 从左到右，从子到父\n",
    "\n",
    "print(Student.mro())\n"
   ]
  },
  {
   "cell_type": "markdown",
   "metadata": {},
   "source": [
    "### obj根类\n",
    "\n",
    "    mro()方法（或__mro__）可以打印继承结构"
   ]
  },
  {
   "cell_type": "code",
   "execution_count": 2,
   "metadata": {},
   "outputs": [
    {
     "name": "stdout",
     "output_type": "stream",
     "text": [
      "p1:\n",
      "['__class__', '__delattr__', '__dict__', '__dir__', '__doc__', '__eq__', '__format__', '__ge__', '__getattribute__', '__gt__', '__hash__', '__init__', '__init_subclass__', '__le__', '__lt__', '__module__', '__ne__', '__new__', '__reduce__', '__reduce_ex__', '__repr__', '__setattr__', '__sizeof__', '__str__', '__subclasshook__', '__weakref__', 'age', 'name', 'work']\n",
      "obj:\n",
      "['__class__', '__delattr__', '__dir__', '__doc__', '__eq__', '__format__', '__ge__', '__getattribute__', '__gt__', '__hash__', '__init__', '__init_subclass__', '__le__', '__lt__', '__ne__', '__new__', '__reduce__', '__reduce_ex__', '__repr__', '__setattr__', '__sizeof__', '__str__', '__subclasshook__']\n"
     ]
    }
   ],
   "source": [
    "# 比较一下自己设置的对象属性和obj\n",
    "\n",
    "class Person:\n",
    "    def __init__(self,name,age) -> None:\n",
    "        self.name = name\n",
    "        self.age = age\n",
    "\n",
    "    def work(self):\n",
    "        print(\"work hard\")\n",
    "\n",
    "p1=Person(\"nihao\",12)\n",
    "\n",
    "obj=object()\n",
    "\n",
    "print(\"p1:\")\n",
    "print(dir(p1))\n",
    "\n",
    "print(\"obj:\")\n",
    "print(dir(obj))"
   ]
  },
  {
   "cell_type": "markdown",
   "metadata": {},
   "source": [
    "    除了几个自己新加的的属性，还有几个其他的"
   ]
  },
  {
   "cell_type": "markdown",
   "metadata": {},
   "source": [
    "### 重写__str__方法\n",
    "    str用于返回一个对象的描述"
   ]
  },
  {
   "cell_type": "code",
   "execution_count": 1,
   "metadata": {},
   "outputs": [
    {
     "name": "stdout",
     "output_type": "stream",
     "text": [
      "名字是：nihao\n"
     ]
    }
   ],
   "source": [
    "class Person:\n",
    "    def __init__(self,name) -> None:\n",
    "        self.name=name\n",
    "\n",
    "    def __str__(self) -> str:\n",
    "        return f\"名字是：{self.name}\"\n",
    "\n",
    "p = Person(\"nihao\")\n",
    "\n",
    "print(p.__str__())"
   ]
  },
  {
   "cell_type": "markdown",
   "metadata": {},
   "source": [
    "### 多重继承\n",
    "    尽量少用，然后注意下class(a,b)的顺序问题可能影响调用的顺序\n",
    "\n",
    "    mro函数中打印从左到右就是继承层次调用顺序\n",
    "\n",
    "    "
   ]
  },
  {
   "cell_type": "code",
   "execution_count": 2,
   "metadata": {},
   "outputs": [
    {
     "name": "stdout",
     "output_type": "stream",
     "text": [
      "bb\n",
      "[<class '__main__.C'>, <class '__main__.B'>, <class '__main__.A'>, <class 'object'>]\n"
     ]
    }
   ],
   "source": [
    "class A:\n",
    "\n",
    "    def say(self):\n",
    "        print(\"aa\")\n",
    "\n",
    "\n",
    "class B:\n",
    "\n",
    "    def say(self):\n",
    "        print(\"bb\")\n",
    "\n",
    "class C(B,A):\n",
    "    pass\n",
    "\n",
    "ss = C()\n",
    "\n",
    "ss.say()\n",
    "\n",
    "print(C.mro())"
   ]
  },
  {
   "cell_type": "markdown",
   "metadata": {},
   "source": [
    "### super()获得父类的定义\n",
    "\n",
    "    子类中想要获得父类的定义（注意是定义，不是实例）"
   ]
  },
  {
   "cell_type": "markdown",
   "metadata": {},
   "source": [
    "### python多态\n",
    "    只有方法的多态，没有属性的多态\n",
    "\n",
    "    通过继承和重写实现的"
   ]
  },
  {
   "cell_type": "markdown",
   "metadata": {},
   "source": [
    "### 特殊方法和运算符重载   \n",
    "    写一些上面没提到过的\n",
    "    __repr__ 打印转换类似str\n",
    "    __getattr__ 点号运算 a.xxx\n",
    "    __setaeer__ 属性赋值 a.xxx = value\n",
    "    __getitem__ __setitem__ 索引运算，索引赋值\n",
    "\n",
    "    __len__ 长度 len(obj)\n",
    "\n",
    "    isinstance(obj1,obj2) 判断是否同类对象"
   ]
  },
  {
   "cell_type": "markdown",
   "metadata": {},
   "source": [
    "### 深拷贝\n",
    "    浅拷贝就略了\n",
    "    obj2=copy.copy(obj1)\n",
    "    内部一些属性（实例对象）可能仍指向统一对象\n",
    "\n",
    "    obj3=copy.deepcopy(obj1)\n",
    "\n",
    "    即可以解决"
   ]
  },
  {
   "cell_type": "code",
   "execution_count": null,
   "metadata": {},
   "outputs": [],
   "source": [
    "import copy\n",
    "copy.deepcopy()"
   ]
  },
  {
   "cell_type": "markdown",
   "metadata": {},
   "source": [
    "### 组合\n",
    "\n",
    "    比如，手机拥有cpu，这里显然用继承非常不合理所以我们可以使用组合的手段拥有cpu的全部功能\n",
    "\n",
    "    把一个类的实例属性设为另一个实例即可"
   ]
  },
  {
   "cell_type": "code",
   "execution_count": 3,
   "metadata": {},
   "outputs": [
    {
     "name": "stdout",
     "output_type": "stream",
     "text": [
      "working...\n"
     ]
    }
   ],
   "source": [
    "class A:\n",
    "    def work(self):\n",
    "        print(\"working...\")\n",
    "\n",
    "class B:\n",
    "    def __init__(self,a) -> None:\n",
    "        self.a=a\n",
    "oA = A()\n",
    "oB = B(oA)\n",
    "\n",
    "oB.a.work()"
   ]
  }
 ],
 "metadata": {
  "interpreter": {
   "hash": "64810ea900b96d1b7e737c0ee55288319b567f772002b2ce929be02a4816f79c"
  },
  "kernelspec": {
   "display_name": "Python 3.9.7 64-bit ('spython': conda)",
   "language": "python",
   "name": "python3"
  },
  "language_info": {
   "codemirror_mode": {
    "name": "ipython",
    "version": 3
   },
   "file_extension": ".py",
   "mimetype": "text/x-python",
   "name": "python",
   "nbconvert_exporter": "python",
   "pygments_lexer": "ipython3",
   "version": "3.9.7"
  },
  "orig_nbformat": 4
 },
 "nbformat": 4,
 "nbformat_minor": 2
}
